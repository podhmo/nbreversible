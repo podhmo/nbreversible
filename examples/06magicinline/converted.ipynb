{
 "cells": [
  {
   "cell_type": "code",
   "execution_count": 1,
   "metadata": {},
   "outputs": [],
   "source": [
    "# toplevel before\n",
    "from nbreversible import (\n",
    "    code,\n",
    ")\n",
    "import json\n",
    "import pandas as pd\n",
    "# %matplotlib inline\n",
    "\n"
   ]
  },
  {
   "cell_type": "code",
   "execution_count": 2,
   "metadata": {},
   "outputs": [],
   "source": [
    "#@I# nested before  ##TODO:support\n",
    "with open(\"points.json\") as rf:\n",
    "        # nested nested before  ##TODO:support\n",
    "    df = pd.DataFrame.from_dict(json.load(rf)).set_index(\"name\")\n",
    "    # nested nested after  ##TODO:support\n",
    "    # nested middle\n",
    "    df\n",
    "#@I# nested before  ## TODO:support\n"
   ]
  },
  {
   "cell_type": "code",
   "execution_count": 3,
   "metadata": {},
   "outputs": [],
   "source": [
    "def f(x):\n",
    "        # nested nested line  ## TODO:support(indent)\n",
    "    return x * x\n",
    "\n",
    "# nested middle\n",
    "    f(10)  ## TODO:support(indent)\n",
    "#@D# nested after  ## TODO:support\n",
    "\n"
   ]
  },
  {
   "cell_type": "code",
   "execution_count": 4,
   "metadata": {},
   "outputs": [],
   "source": [
    "ax = df.plot(kind=\"scatter\", x=\"x\", y=\"y\", s=40)\n",
    "for _, row in df.iterrows():\n",
    "    ax.annotate(\n",
    "            row.name,\n",
    "            (row.x, row.y),  ## TODO:support(indent)\n",
    "            color=\"k\",\n",
    "            weight=\"semibold\",\n",
    "            size=\"medium\",\n",
    "            horizontalalignment=\"left\",\n",
    "            verticalalignment=\"top\"\n",
    "        )\n",
    "# toplevel after\n"
   ]
  }
 ],
 "metadata": {},
 "nbformat": 4,
 "nbformat_minor": 2
}
