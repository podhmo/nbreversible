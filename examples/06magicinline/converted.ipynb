{
 "cells": [
  {
   "cell_type": "code",
   "execution_count": 1,
   "metadata": {},
   "outputs": [],
   "source": [
    "# toplevel before\n",
    "from nbreversible import (\n",
    "    code,\n",
    ")\n",
    "import pandas as pd\n",
    "from dictknife import loading\n",
    "# %matplotlib inline\n",
    "\n"
   ]
  },
  {
   "cell_type": "code",
   "execution_count": 2,
   "metadata": {},
   "outputs": [],
   "source": [
    "df = pd.DataFrame.from_dict(loading.loadfile(\"points.json\")).set_index(\"name\")\n",
    "# nested middle\n",
    "df\n"
   ]
  },
  {
   "cell_type": "code",
   "execution_count": 3,
   "metadata": {},
   "outputs": [],
   "source": [
    "def f(x):\n",
    "        # nested nested line  ## TODO:support(indent)\n",
    "    return x * x\n",
    "\n",
    "# nested middle\n",
    "    f(10)  ## TODO:support(indent)\n"
   ]
  },
  {
   "cell_type": "code",
   "execution_count": 4,
   "metadata": {},
   "outputs": [],
   "source": [
    "ax = df.plot(kind=\"scatter\", x=\"x\", y=\"y\", s=40)\n",
    "for _, row in df.iterrows():\n",
    "    ax.annotate(\n",
    "            row.name,\n",
    "            (row.x, row.y),  ## TODO:support(indent)\n",
    "            color=\"k\",\n",
    "            weight=\"semibold\",\n",
    "            size=\"medium\",\n",
    "            horizontalalignment=\"left\",\n",
    "            verticalalignment=\"top\"\n",
    "        )\n",
    "# toplevel after\n"
   ]
  }
 ],
 "metadata": {},
 "nbformat": 4,
 "nbformat_minor": 2
}
