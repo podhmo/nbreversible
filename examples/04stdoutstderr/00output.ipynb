{
 "cells": [
  {
   "cell_type": "code",
   "execution_count": 1,
   "metadata": {},
   "outputs": [
    {
     "name": "stdout",
     "output_type": "stream",
     "text": [
      "this is stdout\n"
     ]
    },
    {
     "name": "stderr",
     "output_type": "stream",
     "text": [
      "this is stderr\n"
     ]
    }
   ],
   "source": [
    "from nbreversible import (\n",
    "    code\n",
    ")\n",
    "import sys\n",
    "\n",
    "sys.stderr.write(\"this is stderr\\n\")\n",
    "sys.stdout.write(\"this is stdout\\n\")\n"
   ]
  },
  {
   "cell_type": "code",
   "execution_count": 2,
   "metadata": {},
   "outputs": [
    {
     "name": "stdout",
     "output_type": "stream",
     "text": [
      "out\n"
     ]
    },
    {
     "name": "stderr",
     "output_type": "stream",
     "text": [
      "err\n",
      "err\n"
     ]
    }
   ],
   "source": [
    "sys.stderr.write(\"err\\n\")\n",
    "sys.stderr.write(\"err\\n\")\n",
    "sys.stdout.write(\"out\\n\")\n"
   ]
  }
 ],
 "metadata": {},
 "nbformat": 4,
 "nbformat_minor": 2
}
